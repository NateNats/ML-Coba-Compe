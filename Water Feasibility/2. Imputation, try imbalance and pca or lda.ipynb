{
 "cells": [
  {
   "cell_type": "code",
   "execution_count": 56,
   "id": "initial_id",
   "metadata": {
    "collapsed": true,
    "ExecuteTime": {
     "end_time": "2024-04-12T19:37:15.030904Z",
     "start_time": "2024-04-12T19:37:15.010902Z"
    }
   },
   "outputs": [],
   "source": [
    "import pandas as pd\n",
    "import numpy as np\n",
    "from collections import Counter\n",
    "import matplotlib.pyplot as plt\n",
    "from imblearn.over_sampling import SMOTE as sm\n",
    "from sklearn.experimental import enable_iterative_imputer\n",
    "from sklearn.impute import IterativeImputer\n",
    "from sklearn.decomposition import PCA\n",
    "from sklearn.discriminant_analysis import LinearDiscriminantAnalysis as LDA\n",
    "from sklearn.ensemble import RandomForestRegressor\n",
    "import warnings\n",
    "warnings.filterwarnings('ignore')"
   ]
  },
  {
   "cell_type": "code",
   "outputs": [
    {
     "data": {
      "text/plain": "          id  DC024  DC025  DC205  DC206  DC207  DC208  DC209  DC210  DC211  \\\n0          1     11      2   16.0    1.0    0.0    1.0    0.0    0.0    0.0   \n1          2     11      2   31.0    1.0    0.0    1.0    0.0    0.0    1.0   \n2          3     11      2   12.0    1.0    0.0    1.0    1.0    1.0    1.0   \n3          6     11      2   12.0    1.0    0.0    0.0    0.0    0.0    1.0   \n4          7     11      2   12.0    1.0    0.0    1.0    1.0    0.0    0.0   \n...      ...    ...    ...    ...    ...    ...    ...    ...    ...    ...   \n35968  47958     94      1   17.0    1.0    0.0    0.0    0.0    0.0    0.0   \n35969  47959     94      1   12.0    1.0    0.0    1.0    1.0    0.0    0.0   \n35970  47961     94      1   12.0    1.0    0.0    1.0    1.0    0.0    1.0   \n35971  47962     94      1   12.0    1.0    0.0    1.0    1.0    0.0    1.0   \n35972  47963     94      1   12.0    1.0    0.0    1.0    1.0    0.0    1.0   \n\n       ...  DC237f  DC241  DC242  DC244  DC246  DC252  DC270a  DC109  DC142a  \\\n0      ...     0.0    1.0    0.0    0.0    0.0    2.0       1   12.0    60.0   \n1      ...     0.0    1.0    0.0    1.0    1.0    1.0       2   31.0    70.0   \n2      ...     0.0    1.0    0.0    1.0    1.0    0.0       4   11.0    75.0   \n3      ...     0.0    2.0    NaN    1.0    0.0    1.0       1   11.0    85.0   \n4      ...     0.0    1.0    0.0    0.0    1.0    0.0       2   11.0    65.0   \n...    ...     ...    ...    ...    ...    ...    ...     ...    ...     ...   \n35968  ...     0.0    3.0    NaN    0.0    0.0    0.0       1   21.0     9.0   \n35969  ...     0.0    1.0    1.0    0.0    0.0    0.0       2   11.0    12.0   \n35970  ...     0.0    1.0    1.0    0.0    1.0    1.0       1   11.0    48.0   \n35971  ...     0.0    1.0    1.0    0.0    0.0    0.0       2   11.0    39.0   \n35972  ...     0.0    1.0    0.0    0.0    0.0    0.0       3   11.0    40.0   \n\n             DC201  \n0      Layak Minum  \n1      Layak Minum  \n2      Layak Minum  \n3      Layak Minum  \n4      Layak Minum  \n...            ...  \n35968  Layak Minum  \n35969  Layak Minum  \n35970  Layak Minum  \n35971  Layak Minum  \n35972  Layak Minum  \n\n[35973 rows x 40 columns]",
      "text/html": "<div>\n<style scoped>\n    .dataframe tbody tr th:only-of-type {\n        vertical-align: middle;\n    }\n\n    .dataframe tbody tr th {\n        vertical-align: top;\n    }\n\n    .dataframe thead th {\n        text-align: right;\n    }\n</style>\n<table border=\"1\" class=\"dataframe\">\n  <thead>\n    <tr style=\"text-align: right;\">\n      <th></th>\n      <th>id</th>\n      <th>DC024</th>\n      <th>DC025</th>\n      <th>DC205</th>\n      <th>DC206</th>\n      <th>DC207</th>\n      <th>DC208</th>\n      <th>DC209</th>\n      <th>DC210</th>\n      <th>DC211</th>\n      <th>...</th>\n      <th>DC237f</th>\n      <th>DC241</th>\n      <th>DC242</th>\n      <th>DC244</th>\n      <th>DC246</th>\n      <th>DC252</th>\n      <th>DC270a</th>\n      <th>DC109</th>\n      <th>DC142a</th>\n      <th>DC201</th>\n    </tr>\n  </thead>\n  <tbody>\n    <tr>\n      <th>0</th>\n      <td>1</td>\n      <td>11</td>\n      <td>2</td>\n      <td>16.0</td>\n      <td>1.0</td>\n      <td>0.0</td>\n      <td>1.0</td>\n      <td>0.0</td>\n      <td>0.0</td>\n      <td>0.0</td>\n      <td>...</td>\n      <td>0.0</td>\n      <td>1.0</td>\n      <td>0.0</td>\n      <td>0.0</td>\n      <td>0.0</td>\n      <td>2.0</td>\n      <td>1</td>\n      <td>12.0</td>\n      <td>60.0</td>\n      <td>Layak Minum</td>\n    </tr>\n    <tr>\n      <th>1</th>\n      <td>2</td>\n      <td>11</td>\n      <td>2</td>\n      <td>31.0</td>\n      <td>1.0</td>\n      <td>0.0</td>\n      <td>1.0</td>\n      <td>0.0</td>\n      <td>0.0</td>\n      <td>1.0</td>\n      <td>...</td>\n      <td>0.0</td>\n      <td>1.0</td>\n      <td>0.0</td>\n      <td>1.0</td>\n      <td>1.0</td>\n      <td>1.0</td>\n      <td>2</td>\n      <td>31.0</td>\n      <td>70.0</td>\n      <td>Layak Minum</td>\n    </tr>\n    <tr>\n      <th>2</th>\n      <td>3</td>\n      <td>11</td>\n      <td>2</td>\n      <td>12.0</td>\n      <td>1.0</td>\n      <td>0.0</td>\n      <td>1.0</td>\n      <td>1.0</td>\n      <td>1.0</td>\n      <td>1.0</td>\n      <td>...</td>\n      <td>0.0</td>\n      <td>1.0</td>\n      <td>0.0</td>\n      <td>1.0</td>\n      <td>1.0</td>\n      <td>0.0</td>\n      <td>4</td>\n      <td>11.0</td>\n      <td>75.0</td>\n      <td>Layak Minum</td>\n    </tr>\n    <tr>\n      <th>3</th>\n      <td>6</td>\n      <td>11</td>\n      <td>2</td>\n      <td>12.0</td>\n      <td>1.0</td>\n      <td>0.0</td>\n      <td>0.0</td>\n      <td>0.0</td>\n      <td>0.0</td>\n      <td>1.0</td>\n      <td>...</td>\n      <td>0.0</td>\n      <td>2.0</td>\n      <td>NaN</td>\n      <td>1.0</td>\n      <td>0.0</td>\n      <td>1.0</td>\n      <td>1</td>\n      <td>11.0</td>\n      <td>85.0</td>\n      <td>Layak Minum</td>\n    </tr>\n    <tr>\n      <th>4</th>\n      <td>7</td>\n      <td>11</td>\n      <td>2</td>\n      <td>12.0</td>\n      <td>1.0</td>\n      <td>0.0</td>\n      <td>1.0</td>\n      <td>1.0</td>\n      <td>0.0</td>\n      <td>0.0</td>\n      <td>...</td>\n      <td>0.0</td>\n      <td>1.0</td>\n      <td>0.0</td>\n      <td>0.0</td>\n      <td>1.0</td>\n      <td>0.0</td>\n      <td>2</td>\n      <td>11.0</td>\n      <td>65.0</td>\n      <td>Layak Minum</td>\n    </tr>\n    <tr>\n      <th>...</th>\n      <td>...</td>\n      <td>...</td>\n      <td>...</td>\n      <td>...</td>\n      <td>...</td>\n      <td>...</td>\n      <td>...</td>\n      <td>...</td>\n      <td>...</td>\n      <td>...</td>\n      <td>...</td>\n      <td>...</td>\n      <td>...</td>\n      <td>...</td>\n      <td>...</td>\n      <td>...</td>\n      <td>...</td>\n      <td>...</td>\n      <td>...</td>\n      <td>...</td>\n      <td>...</td>\n    </tr>\n    <tr>\n      <th>35968</th>\n      <td>47958</td>\n      <td>94</td>\n      <td>1</td>\n      <td>17.0</td>\n      <td>1.0</td>\n      <td>0.0</td>\n      <td>0.0</td>\n      <td>0.0</td>\n      <td>0.0</td>\n      <td>0.0</td>\n      <td>...</td>\n      <td>0.0</td>\n      <td>3.0</td>\n      <td>NaN</td>\n      <td>0.0</td>\n      <td>0.0</td>\n      <td>0.0</td>\n      <td>1</td>\n      <td>21.0</td>\n      <td>9.0</td>\n      <td>Layak Minum</td>\n    </tr>\n    <tr>\n      <th>35969</th>\n      <td>47959</td>\n      <td>94</td>\n      <td>1</td>\n      <td>12.0</td>\n      <td>1.0</td>\n      <td>0.0</td>\n      <td>1.0</td>\n      <td>1.0</td>\n      <td>0.0</td>\n      <td>0.0</td>\n      <td>...</td>\n      <td>0.0</td>\n      <td>1.0</td>\n      <td>1.0</td>\n      <td>0.0</td>\n      <td>0.0</td>\n      <td>0.0</td>\n      <td>2</td>\n      <td>11.0</td>\n      <td>12.0</td>\n      <td>Layak Minum</td>\n    </tr>\n    <tr>\n      <th>35970</th>\n      <td>47961</td>\n      <td>94</td>\n      <td>1</td>\n      <td>12.0</td>\n      <td>1.0</td>\n      <td>0.0</td>\n      <td>1.0</td>\n      <td>1.0</td>\n      <td>0.0</td>\n      <td>1.0</td>\n      <td>...</td>\n      <td>0.0</td>\n      <td>1.0</td>\n      <td>1.0</td>\n      <td>0.0</td>\n      <td>1.0</td>\n      <td>1.0</td>\n      <td>1</td>\n      <td>11.0</td>\n      <td>48.0</td>\n      <td>Layak Minum</td>\n    </tr>\n    <tr>\n      <th>35971</th>\n      <td>47962</td>\n      <td>94</td>\n      <td>1</td>\n      <td>12.0</td>\n      <td>1.0</td>\n      <td>0.0</td>\n      <td>1.0</td>\n      <td>1.0</td>\n      <td>0.0</td>\n      <td>1.0</td>\n      <td>...</td>\n      <td>0.0</td>\n      <td>1.0</td>\n      <td>1.0</td>\n      <td>0.0</td>\n      <td>0.0</td>\n      <td>0.0</td>\n      <td>2</td>\n      <td>11.0</td>\n      <td>39.0</td>\n      <td>Layak Minum</td>\n    </tr>\n    <tr>\n      <th>35972</th>\n      <td>47963</td>\n      <td>94</td>\n      <td>1</td>\n      <td>12.0</td>\n      <td>1.0</td>\n      <td>0.0</td>\n      <td>1.0</td>\n      <td>1.0</td>\n      <td>0.0</td>\n      <td>1.0</td>\n      <td>...</td>\n      <td>0.0</td>\n      <td>1.0</td>\n      <td>0.0</td>\n      <td>0.0</td>\n      <td>0.0</td>\n      <td>0.0</td>\n      <td>3</td>\n      <td>11.0</td>\n      <td>40.0</td>\n      <td>Layak Minum</td>\n    </tr>\n  </tbody>\n</table>\n<p>35973 rows × 40 columns</p>\n</div>"
     },
     "execution_count": 2,
     "metadata": {},
     "output_type": "execute_result"
    }
   ],
   "source": [
    "data = pd.read_csv('Dataset/train.csv')\n",
    "data"
   ],
   "metadata": {
    "collapsed": false,
    "ExecuteTime": {
     "end_time": "2024-04-12T10:55:40.620445Z",
     "start_time": "2024-04-12T10:55:40.481442Z"
    }
   },
   "id": "c68b6efcb6d40ba0",
   "execution_count": 2
  },
  {
   "cell_type": "code",
   "outputs": [],
   "source": [
    "data.drop('id', axis=1, inplace=True)"
   ],
   "metadata": {
    "collapsed": false,
    "ExecuteTime": {
     "end_time": "2024-04-12T10:55:40.635446Z",
     "start_time": "2024-04-12T10:55:40.622442Z"
    }
   },
   "id": "5b7c58157f5df804",
   "execution_count": 3
  },
  {
   "cell_type": "code",
   "outputs": [
    {
     "data": {
      "text/plain": "0        0\n1        0\n2        0\n3        0\n4        0\n        ..\n35968    0\n35969    0\n35970    0\n35971    0\n35972    0\nName: DC201, Length: 35973, dtype: int64"
     },
     "execution_count": 9,
     "metadata": {},
     "output_type": "execute_result"
    }
   ],
   "source": [
    "data['DC201'][data['DC201'] == 'Layak Minum'] = 0\n",
    "data['DC201'][data['DC201'] == 'Tidak Layak Minum'] = 1\n",
    "data['DC201'].fillna(0, inplace=True)\n",
    "data['DC201'].astype(np.int64)"
   ],
   "metadata": {
    "collapsed": false,
    "ExecuteTime": {
     "end_time": "2024-04-12T10:59:31.958278Z",
     "start_time": "2024-04-12T10:59:31.946276Z"
    }
   },
   "id": "81bc6cff8d7be6b7",
   "execution_count": 9
  },
  {
   "cell_type": "code",
   "outputs": [
    {
     "data": {
      "text/plain": "array([0, 1], dtype=int64)"
     },
     "execution_count": 10,
     "metadata": {},
     "output_type": "execute_result"
    }
   ],
   "source": [
    "data['DC201'].unique()"
   ],
   "metadata": {
    "collapsed": false,
    "ExecuteTime": {
     "end_time": "2024-04-12T10:59:34.099891Z",
     "start_time": "2024-04-12T10:59:34.083891Z"
    }
   },
   "id": "ff6ad8adf5687d5f",
   "execution_count": 10
  },
  {
   "cell_type": "code",
   "outputs": [
    {
     "name": "stdout",
     "output_type": "stream",
     "text": [
      "<class 'pandas.core.frame.DataFrame'>\n",
      "RangeIndex: 35973 entries, 0 to 35972\n",
      "Data columns (total 39 columns):\n",
      " #   Column  Non-Null Count  Dtype  \n",
      "---  ------  --------------  -----  \n",
      " 0   DC024   35973 non-null  int64  \n",
      " 1   DC025   35973 non-null  int64  \n",
      " 2   DC205   35962 non-null  float64\n",
      " 3   DC206   35952 non-null  float64\n",
      " 4   DC207   35929 non-null  float64\n",
      " 5   DC208   35960 non-null  float64\n",
      " 6   DC209   35955 non-null  float64\n",
      " 7   DC210   35932 non-null  float64\n",
      " 8   DC211   35949 non-null  float64\n",
      " 9   DC212   35949 non-null  float64\n",
      " 10  DC213   35896 non-null  float64\n",
      " 11  DC214   35964 non-null  float64\n",
      " 12  DC215   35959 non-null  float64\n",
      " 13  DC216   35934 non-null  float64\n",
      " 14  DC217   35973 non-null  int64  \n",
      " 15  DC219   35973 non-null  int64  \n",
      " 16  DC220   35969 non-null  float64\n",
      " 17  DC226   35967 non-null  float64\n",
      " 18  DC230a  35962 non-null  float64\n",
      " 19  DC230b  32964 non-null  float64\n",
      " 20  DC232   32949 non-null  float64\n",
      " 21  DC232b  32949 non-null  float64\n",
      " 22  DC235   25527 non-null  float64\n",
      " 23  DC237   35952 non-null  float64\n",
      " 24  DC237a  35936 non-null  float64\n",
      " 25  DC237b  35936 non-null  float64\n",
      " 26  DC237c  35936 non-null  float64\n",
      " 27  DC237d  35936 non-null  float64\n",
      " 28  DC237e  35936 non-null  float64\n",
      " 29  DC237f  35936 non-null  float64\n",
      " 30  DC241   35361 non-null  float64\n",
      " 31  DC242   30599 non-null  float64\n",
      " 32  DC244   35969 non-null  float64\n",
      " 33  DC246   35964 non-null  float64\n",
      " 34  DC252   35959 non-null  float64\n",
      " 35  DC270a  35973 non-null  int64  \n",
      " 36  DC109   35962 non-null  float64\n",
      " 37  DC142a  35921 non-null  float64\n",
      " 38  DC201   35973 non-null  int64  \n",
      "dtypes: float64(33), int64(6)\n",
      "memory usage: 10.7 MB\n"
     ]
    }
   ],
   "source": [
    "data.info()"
   ],
   "metadata": {
    "collapsed": false,
    "ExecuteTime": {
     "end_time": "2024-04-12T11:00:18.830925Z",
     "start_time": "2024-04-12T11:00:18.815923Z"
    }
   },
   "id": "d8e354f647e7b382",
   "execution_count": 12
  },
  {
   "cell_type": "code",
   "outputs": [
    {
     "data": {
      "text/plain": "DC024         0\nDC025         0\nDC205        11\nDC206        21\nDC207        44\nDC208        13\nDC209        18\nDC210        41\nDC211        24\nDC212        24\nDC213        77\nDC214         9\nDC215        14\nDC216        39\nDC217         0\nDC219         0\nDC220         4\nDC226         6\nDC230a       11\nDC230b     3009\nDC232      3024\nDC232b     3024\nDC235     10446\nDC237        21\nDC237a       37\nDC237b       37\nDC237c       37\nDC237d       37\nDC237e       37\nDC237f       37\nDC241       612\nDC242      5374\nDC244         4\nDC246         9\nDC252        14\nDC270a        0\nDC109        11\nDC142a       52\nDC201         0\ndtype: int64"
     },
     "execution_count": 13,
     "metadata": {},
     "output_type": "execute_result"
    }
   ],
   "source": [
    "data.isna().sum()"
   ],
   "metadata": {
    "collapsed": false,
    "ExecuteTime": {
     "end_time": "2024-04-12T11:00:23.989939Z",
     "start_time": "2024-04-12T11:00:23.977939Z"
    }
   },
   "id": "3cc9563299f2c34",
   "execution_count": 13
  },
  {
   "cell_type": "code",
   "outputs": [
    {
     "name": "stdout",
     "output_type": "stream",
     "text": [
      "[IterativeImputer] Completing matrix with shape (35973, 38)\n",
      "[IterativeImputer] Ending imputation round 1/10, elapsed time 679.63\n",
      "[IterativeImputer] Change: 218.88178363631303, scaled tolerance: 0.998 \n",
      "[IterativeImputer] Ending imputation round 2/10, elapsed time 1409.11\n",
      "[IterativeImputer] Change: 95.54000000000002, scaled tolerance: 0.998 \n",
      "[IterativeImputer] Ending imputation round 3/10, elapsed time 2141.40\n",
      "[IterativeImputer] Change: 93.83999999999997, scaled tolerance: 0.998 \n",
      "[IterativeImputer] Ending imputation round 4/10, elapsed time 2871.07\n",
      "[IterativeImputer] Change: 35.34999999999999, scaled tolerance: 0.998 \n",
      "[IterativeImputer] Ending imputation round 5/10, elapsed time 3601.63\n",
      "[IterativeImputer] Change: 58.39, scaled tolerance: 0.998 \n",
      "[IterativeImputer] Ending imputation round 6/10, elapsed time 4351.74\n",
      "[IterativeImputer] Change: 40.370000000000005, scaled tolerance: 0.998 \n",
      "[IterativeImputer] Ending imputation round 7/10, elapsed time 5117.83\n",
      "[IterativeImputer] Change: 72.0, scaled tolerance: 0.998 \n",
      "[IterativeImputer] Ending imputation round 8/10, elapsed time 5876.80\n",
      "[IterativeImputer] Change: 136.04999999999998, scaled tolerance: 0.998 \n",
      "[IterativeImputer] Ending imputation round 9/10, elapsed time 6631.55\n",
      "[IterativeImputer] Change: 146.83, scaled tolerance: 0.998 \n",
      "[IterativeImputer] Ending imputation round 10/10, elapsed time 7387.16\n",
      "[IterativeImputer] Change: 44.56, scaled tolerance: 0.998 \n"
     ]
    }
   ],
   "source": [
    "rf = RandomForestRegressor()\n",
    "\n",
    "X = data.drop('DC201', axis=1)\n",
    "y = data['DC201']\n",
    "imp = IterativeImputer(estimator=rf, max_iter=10, verbose=2, missing_values=np.nan, imputation_order='roman', random_state=0)\n",
    "\n",
    "X = imp.fit_transform(X)"
   ],
   "metadata": {
    "collapsed": false,
    "ExecuteTime": {
     "end_time": "2024-04-12T13:12:25.566111Z",
     "start_time": "2024-04-12T11:09:18.049739Z"
    }
   },
   "id": "789fe034d2e15844",
   "execution_count": 20
  },
  {
   "cell_type": "code",
   "outputs": [
    {
     "data": {
      "text/plain": "array([[11.,  2., 16., ...,  1., 12., 60.],\n       [11.,  2., 31., ...,  2., 31., 70.],\n       [11.,  2., 12., ...,  4., 11., 75.],\n       ...,\n       [94.,  1., 12., ...,  1., 11., 48.],\n       [94.,  1., 12., ...,  2., 11., 39.],\n       [94.,  1., 12., ...,  3., 11., 40.]])"
     },
     "execution_count": 21,
     "metadata": {},
     "output_type": "execute_result"
    }
   ],
   "source": [
    "X"
   ],
   "metadata": {
    "collapsed": false,
    "ExecuteTime": {
     "end_time": "2024-04-12T14:48:39.297109Z",
     "start_time": "2024-04-12T14:48:39.232107Z"
    }
   },
   "id": "19c2cf374ea64562",
   "execution_count": 21
  },
  {
   "cell_type": "code",
   "outputs": [
    {
     "data": {
      "text/plain": "       DC024  DC025  DC205  DC206  DC207  DC208  DC209  DC210  DC211  DC212  \\\n0       11.0    2.0   16.0    1.0    0.0    1.0    0.0    0.0    0.0    0.0   \n1       11.0    2.0   31.0    1.0    0.0    1.0    0.0    0.0    1.0    0.0   \n2       11.0    2.0   12.0    1.0    0.0    1.0    1.0    1.0    1.0    0.0   \n3       11.0    2.0   12.0    1.0    0.0    0.0    0.0    0.0    1.0    0.0   \n4       11.0    2.0   12.0    1.0    0.0    1.0    1.0    0.0    0.0    0.0   \n...      ...    ...    ...    ...    ...    ...    ...    ...    ...    ...   \n35968   94.0    1.0   17.0    1.0    0.0    0.0    0.0    0.0    0.0    0.0   \n35969   94.0    1.0   12.0    1.0    0.0    1.0    1.0    0.0    0.0    0.0   \n35970   94.0    1.0   12.0    1.0    0.0    1.0    1.0    0.0    1.0    0.0   \n35971   94.0    1.0   12.0    1.0    0.0    1.0    1.0    0.0    1.0    0.0   \n35972   94.0    1.0   12.0    1.0    0.0    1.0    1.0    0.0    1.0    1.0   \n\n       ...  DC237e  DC237f  DC241  DC242  DC244  DC246  DC252  DC270a  DC109  \\\n0      ...     0.0     0.0    1.0   0.00    0.0    0.0    2.0     1.0   12.0   \n1      ...     0.0     0.0    1.0   0.00    1.0    1.0    1.0     2.0   31.0   \n2      ...     0.0     0.0    1.0   0.00    1.0    1.0    0.0     4.0   11.0   \n3      ...     0.0     0.0    2.0   0.90    1.0    0.0    1.0     1.0   11.0   \n4      ...     0.0     0.0    1.0   0.00    0.0    1.0    0.0     2.0   11.0   \n...    ...     ...     ...    ...    ...    ...    ...    ...     ...    ...   \n35968  ...     0.0     0.0    3.0   0.44    0.0    0.0    0.0     1.0   21.0   \n35969  ...     0.0     0.0    1.0   1.00    0.0    0.0    0.0     2.0   11.0   \n35970  ...     0.0     0.0    1.0   1.00    0.0    1.0    1.0     1.0   11.0   \n35971  ...     0.0     0.0    1.0   1.00    0.0    0.0    0.0     2.0   11.0   \n35972  ...     0.0     0.0    1.0   0.00    0.0    0.0    0.0     3.0   11.0   \n\n       DC142a  \n0        60.0  \n1        70.0  \n2        75.0  \n3        85.0  \n4        65.0  \n...       ...  \n35968     9.0  \n35969    12.0  \n35970    48.0  \n35971    39.0  \n35972    40.0  \n\n[35973 rows x 38 columns]",
      "text/html": "<div>\n<style scoped>\n    .dataframe tbody tr th:only-of-type {\n        vertical-align: middle;\n    }\n\n    .dataframe tbody tr th {\n        vertical-align: top;\n    }\n\n    .dataframe thead th {\n        text-align: right;\n    }\n</style>\n<table border=\"1\" class=\"dataframe\">\n  <thead>\n    <tr style=\"text-align: right;\">\n      <th></th>\n      <th>DC024</th>\n      <th>DC025</th>\n      <th>DC205</th>\n      <th>DC206</th>\n      <th>DC207</th>\n      <th>DC208</th>\n      <th>DC209</th>\n      <th>DC210</th>\n      <th>DC211</th>\n      <th>DC212</th>\n      <th>...</th>\n      <th>DC237e</th>\n      <th>DC237f</th>\n      <th>DC241</th>\n      <th>DC242</th>\n      <th>DC244</th>\n      <th>DC246</th>\n      <th>DC252</th>\n      <th>DC270a</th>\n      <th>DC109</th>\n      <th>DC142a</th>\n    </tr>\n  </thead>\n  <tbody>\n    <tr>\n      <th>0</th>\n      <td>11.0</td>\n      <td>2.0</td>\n      <td>16.0</td>\n      <td>1.0</td>\n      <td>0.0</td>\n      <td>1.0</td>\n      <td>0.0</td>\n      <td>0.0</td>\n      <td>0.0</td>\n      <td>0.0</td>\n      <td>...</td>\n      <td>0.0</td>\n      <td>0.0</td>\n      <td>1.0</td>\n      <td>0.00</td>\n      <td>0.0</td>\n      <td>0.0</td>\n      <td>2.0</td>\n      <td>1.0</td>\n      <td>12.0</td>\n      <td>60.0</td>\n    </tr>\n    <tr>\n      <th>1</th>\n      <td>11.0</td>\n      <td>2.0</td>\n      <td>31.0</td>\n      <td>1.0</td>\n      <td>0.0</td>\n      <td>1.0</td>\n      <td>0.0</td>\n      <td>0.0</td>\n      <td>1.0</td>\n      <td>0.0</td>\n      <td>...</td>\n      <td>0.0</td>\n      <td>0.0</td>\n      <td>1.0</td>\n      <td>0.00</td>\n      <td>1.0</td>\n      <td>1.0</td>\n      <td>1.0</td>\n      <td>2.0</td>\n      <td>31.0</td>\n      <td>70.0</td>\n    </tr>\n    <tr>\n      <th>2</th>\n      <td>11.0</td>\n      <td>2.0</td>\n      <td>12.0</td>\n      <td>1.0</td>\n      <td>0.0</td>\n      <td>1.0</td>\n      <td>1.0</td>\n      <td>1.0</td>\n      <td>1.0</td>\n      <td>0.0</td>\n      <td>...</td>\n      <td>0.0</td>\n      <td>0.0</td>\n      <td>1.0</td>\n      <td>0.00</td>\n      <td>1.0</td>\n      <td>1.0</td>\n      <td>0.0</td>\n      <td>4.0</td>\n      <td>11.0</td>\n      <td>75.0</td>\n    </tr>\n    <tr>\n      <th>3</th>\n      <td>11.0</td>\n      <td>2.0</td>\n      <td>12.0</td>\n      <td>1.0</td>\n      <td>0.0</td>\n      <td>0.0</td>\n      <td>0.0</td>\n      <td>0.0</td>\n      <td>1.0</td>\n      <td>0.0</td>\n      <td>...</td>\n      <td>0.0</td>\n      <td>0.0</td>\n      <td>2.0</td>\n      <td>0.90</td>\n      <td>1.0</td>\n      <td>0.0</td>\n      <td>1.0</td>\n      <td>1.0</td>\n      <td>11.0</td>\n      <td>85.0</td>\n    </tr>\n    <tr>\n      <th>4</th>\n      <td>11.0</td>\n      <td>2.0</td>\n      <td>12.0</td>\n      <td>1.0</td>\n      <td>0.0</td>\n      <td>1.0</td>\n      <td>1.0</td>\n      <td>0.0</td>\n      <td>0.0</td>\n      <td>0.0</td>\n      <td>...</td>\n      <td>0.0</td>\n      <td>0.0</td>\n      <td>1.0</td>\n      <td>0.00</td>\n      <td>0.0</td>\n      <td>1.0</td>\n      <td>0.0</td>\n      <td>2.0</td>\n      <td>11.0</td>\n      <td>65.0</td>\n    </tr>\n    <tr>\n      <th>...</th>\n      <td>...</td>\n      <td>...</td>\n      <td>...</td>\n      <td>...</td>\n      <td>...</td>\n      <td>...</td>\n      <td>...</td>\n      <td>...</td>\n      <td>...</td>\n      <td>...</td>\n      <td>...</td>\n      <td>...</td>\n      <td>...</td>\n      <td>...</td>\n      <td>...</td>\n      <td>...</td>\n      <td>...</td>\n      <td>...</td>\n      <td>...</td>\n      <td>...</td>\n      <td>...</td>\n    </tr>\n    <tr>\n      <th>35968</th>\n      <td>94.0</td>\n      <td>1.0</td>\n      <td>17.0</td>\n      <td>1.0</td>\n      <td>0.0</td>\n      <td>0.0</td>\n      <td>0.0</td>\n      <td>0.0</td>\n      <td>0.0</td>\n      <td>0.0</td>\n      <td>...</td>\n      <td>0.0</td>\n      <td>0.0</td>\n      <td>3.0</td>\n      <td>0.44</td>\n      <td>0.0</td>\n      <td>0.0</td>\n      <td>0.0</td>\n      <td>1.0</td>\n      <td>21.0</td>\n      <td>9.0</td>\n    </tr>\n    <tr>\n      <th>35969</th>\n      <td>94.0</td>\n      <td>1.0</td>\n      <td>12.0</td>\n      <td>1.0</td>\n      <td>0.0</td>\n      <td>1.0</td>\n      <td>1.0</td>\n      <td>0.0</td>\n      <td>0.0</td>\n      <td>0.0</td>\n      <td>...</td>\n      <td>0.0</td>\n      <td>0.0</td>\n      <td>1.0</td>\n      <td>1.00</td>\n      <td>0.0</td>\n      <td>0.0</td>\n      <td>0.0</td>\n      <td>2.0</td>\n      <td>11.0</td>\n      <td>12.0</td>\n    </tr>\n    <tr>\n      <th>35970</th>\n      <td>94.0</td>\n      <td>1.0</td>\n      <td>12.0</td>\n      <td>1.0</td>\n      <td>0.0</td>\n      <td>1.0</td>\n      <td>1.0</td>\n      <td>0.0</td>\n      <td>1.0</td>\n      <td>0.0</td>\n      <td>...</td>\n      <td>0.0</td>\n      <td>0.0</td>\n      <td>1.0</td>\n      <td>1.00</td>\n      <td>0.0</td>\n      <td>1.0</td>\n      <td>1.0</td>\n      <td>1.0</td>\n      <td>11.0</td>\n      <td>48.0</td>\n    </tr>\n    <tr>\n      <th>35971</th>\n      <td>94.0</td>\n      <td>1.0</td>\n      <td>12.0</td>\n      <td>1.0</td>\n      <td>0.0</td>\n      <td>1.0</td>\n      <td>1.0</td>\n      <td>0.0</td>\n      <td>1.0</td>\n      <td>0.0</td>\n      <td>...</td>\n      <td>0.0</td>\n      <td>0.0</td>\n      <td>1.0</td>\n      <td>1.00</td>\n      <td>0.0</td>\n      <td>0.0</td>\n      <td>0.0</td>\n      <td>2.0</td>\n      <td>11.0</td>\n      <td>39.0</td>\n    </tr>\n    <tr>\n      <th>35972</th>\n      <td>94.0</td>\n      <td>1.0</td>\n      <td>12.0</td>\n      <td>1.0</td>\n      <td>0.0</td>\n      <td>1.0</td>\n      <td>1.0</td>\n      <td>0.0</td>\n      <td>1.0</td>\n      <td>1.0</td>\n      <td>...</td>\n      <td>0.0</td>\n      <td>0.0</td>\n      <td>1.0</td>\n      <td>0.00</td>\n      <td>0.0</td>\n      <td>0.0</td>\n      <td>0.0</td>\n      <td>3.0</td>\n      <td>11.0</td>\n      <td>40.0</td>\n    </tr>\n  </tbody>\n</table>\n<p>35973 rows × 38 columns</p>\n</div>"
     },
     "execution_count": 22,
     "metadata": {},
     "output_type": "execute_result"
    }
   ],
   "source": [
    "features = data.drop('DC201', axis=1).columns.tolist()\n",
    "\n",
    "X = pd.DataFrame(X, columns=features)\n",
    "X"
   ],
   "metadata": {
    "collapsed": false,
    "ExecuteTime": {
     "end_time": "2024-04-12T14:50:04.584413Z",
     "start_time": "2024-04-12T14:50:04.498392Z"
    }
   },
   "id": "fb71a66b34ff34d7",
   "execution_count": 22
  },
  {
   "cell_type": "code",
   "outputs": [
    {
     "data": {
      "text/plain": "       DC024  DC025  DC205  DC206  DC207  DC208  DC209  DC210  DC211  DC212  \\\n0       11.0    2.0   16.0    1.0    0.0    1.0    0.0    0.0    0.0    0.0   \n1       11.0    2.0   31.0    1.0    0.0    1.0    0.0    0.0    1.0    0.0   \n2       11.0    2.0   12.0    1.0    0.0    1.0    1.0    1.0    1.0    0.0   \n3       11.0    2.0   12.0    1.0    0.0    0.0    0.0    0.0    1.0    0.0   \n4       11.0    2.0   12.0    1.0    0.0    1.0    1.0    0.0    0.0    0.0   \n...      ...    ...    ...    ...    ...    ...    ...    ...    ...    ...   \n35968   94.0    1.0   17.0    1.0    0.0    0.0    0.0    0.0    0.0    0.0   \n35969   94.0    1.0   12.0    1.0    0.0    1.0    1.0    0.0    0.0    0.0   \n35970   94.0    1.0   12.0    1.0    0.0    1.0    1.0    0.0    1.0    0.0   \n35971   94.0    1.0   12.0    1.0    0.0    1.0    1.0    0.0    1.0    0.0   \n35972   94.0    1.0   12.0    1.0    0.0    1.0    1.0    0.0    1.0    1.0   \n\n       ...  DC237f  DC241  DC242  DC244  DC246  DC252  DC270a  DC109  DC142a  \\\n0      ...     0.0    1.0   0.00    0.0    0.0    2.0     1.0   12.0    60.0   \n1      ...     0.0    1.0   0.00    1.0    1.0    1.0     2.0   31.0    70.0   \n2      ...     0.0    1.0   0.00    1.0    1.0    0.0     4.0   11.0    75.0   \n3      ...     0.0    2.0   0.90    1.0    0.0    1.0     1.0   11.0    85.0   \n4      ...     0.0    1.0   0.00    0.0    1.0    0.0     2.0   11.0    65.0   \n...    ...     ...    ...    ...    ...    ...    ...     ...    ...     ...   \n35968  ...     0.0    3.0   0.44    0.0    0.0    0.0     1.0   21.0     9.0   \n35969  ...     0.0    1.0   1.00    0.0    0.0    0.0     2.0   11.0    12.0   \n35970  ...     0.0    1.0   1.00    0.0    1.0    1.0     1.0   11.0    48.0   \n35971  ...     0.0    1.0   1.00    0.0    0.0    0.0     2.0   11.0    39.0   \n35972  ...     0.0    1.0   0.00    0.0    0.0    0.0     3.0   11.0    40.0   \n\n       DC201  \n0          0  \n1          0  \n2          0  \n3          0  \n4          0  \n...      ...  \n35968      0  \n35969      0  \n35970      0  \n35971      0  \n35972      0  \n\n[35973 rows x 39 columns]",
      "text/html": "<div>\n<style scoped>\n    .dataframe tbody tr th:only-of-type {\n        vertical-align: middle;\n    }\n\n    .dataframe tbody tr th {\n        vertical-align: top;\n    }\n\n    .dataframe thead th {\n        text-align: right;\n    }\n</style>\n<table border=\"1\" class=\"dataframe\">\n  <thead>\n    <tr style=\"text-align: right;\">\n      <th></th>\n      <th>DC024</th>\n      <th>DC025</th>\n      <th>DC205</th>\n      <th>DC206</th>\n      <th>DC207</th>\n      <th>DC208</th>\n      <th>DC209</th>\n      <th>DC210</th>\n      <th>DC211</th>\n      <th>DC212</th>\n      <th>...</th>\n      <th>DC237f</th>\n      <th>DC241</th>\n      <th>DC242</th>\n      <th>DC244</th>\n      <th>DC246</th>\n      <th>DC252</th>\n      <th>DC270a</th>\n      <th>DC109</th>\n      <th>DC142a</th>\n      <th>DC201</th>\n    </tr>\n  </thead>\n  <tbody>\n    <tr>\n      <th>0</th>\n      <td>11.0</td>\n      <td>2.0</td>\n      <td>16.0</td>\n      <td>1.0</td>\n      <td>0.0</td>\n      <td>1.0</td>\n      <td>0.0</td>\n      <td>0.0</td>\n      <td>0.0</td>\n      <td>0.0</td>\n      <td>...</td>\n      <td>0.0</td>\n      <td>1.0</td>\n      <td>0.00</td>\n      <td>0.0</td>\n      <td>0.0</td>\n      <td>2.0</td>\n      <td>1.0</td>\n      <td>12.0</td>\n      <td>60.0</td>\n      <td>0</td>\n    </tr>\n    <tr>\n      <th>1</th>\n      <td>11.0</td>\n      <td>2.0</td>\n      <td>31.0</td>\n      <td>1.0</td>\n      <td>0.0</td>\n      <td>1.0</td>\n      <td>0.0</td>\n      <td>0.0</td>\n      <td>1.0</td>\n      <td>0.0</td>\n      <td>...</td>\n      <td>0.0</td>\n      <td>1.0</td>\n      <td>0.00</td>\n      <td>1.0</td>\n      <td>1.0</td>\n      <td>1.0</td>\n      <td>2.0</td>\n      <td>31.0</td>\n      <td>70.0</td>\n      <td>0</td>\n    </tr>\n    <tr>\n      <th>2</th>\n      <td>11.0</td>\n      <td>2.0</td>\n      <td>12.0</td>\n      <td>1.0</td>\n      <td>0.0</td>\n      <td>1.0</td>\n      <td>1.0</td>\n      <td>1.0</td>\n      <td>1.0</td>\n      <td>0.0</td>\n      <td>...</td>\n      <td>0.0</td>\n      <td>1.0</td>\n      <td>0.00</td>\n      <td>1.0</td>\n      <td>1.0</td>\n      <td>0.0</td>\n      <td>4.0</td>\n      <td>11.0</td>\n      <td>75.0</td>\n      <td>0</td>\n    </tr>\n    <tr>\n      <th>3</th>\n      <td>11.0</td>\n      <td>2.0</td>\n      <td>12.0</td>\n      <td>1.0</td>\n      <td>0.0</td>\n      <td>0.0</td>\n      <td>0.0</td>\n      <td>0.0</td>\n      <td>1.0</td>\n      <td>0.0</td>\n      <td>...</td>\n      <td>0.0</td>\n      <td>2.0</td>\n      <td>0.90</td>\n      <td>1.0</td>\n      <td>0.0</td>\n      <td>1.0</td>\n      <td>1.0</td>\n      <td>11.0</td>\n      <td>85.0</td>\n      <td>0</td>\n    </tr>\n    <tr>\n      <th>4</th>\n      <td>11.0</td>\n      <td>2.0</td>\n      <td>12.0</td>\n      <td>1.0</td>\n      <td>0.0</td>\n      <td>1.0</td>\n      <td>1.0</td>\n      <td>0.0</td>\n      <td>0.0</td>\n      <td>0.0</td>\n      <td>...</td>\n      <td>0.0</td>\n      <td>1.0</td>\n      <td>0.00</td>\n      <td>0.0</td>\n      <td>1.0</td>\n      <td>0.0</td>\n      <td>2.0</td>\n      <td>11.0</td>\n      <td>65.0</td>\n      <td>0</td>\n    </tr>\n    <tr>\n      <th>...</th>\n      <td>...</td>\n      <td>...</td>\n      <td>...</td>\n      <td>...</td>\n      <td>...</td>\n      <td>...</td>\n      <td>...</td>\n      <td>...</td>\n      <td>...</td>\n      <td>...</td>\n      <td>...</td>\n      <td>...</td>\n      <td>...</td>\n      <td>...</td>\n      <td>...</td>\n      <td>...</td>\n      <td>...</td>\n      <td>...</td>\n      <td>...</td>\n      <td>...</td>\n      <td>...</td>\n    </tr>\n    <tr>\n      <th>35968</th>\n      <td>94.0</td>\n      <td>1.0</td>\n      <td>17.0</td>\n      <td>1.0</td>\n      <td>0.0</td>\n      <td>0.0</td>\n      <td>0.0</td>\n      <td>0.0</td>\n      <td>0.0</td>\n      <td>0.0</td>\n      <td>...</td>\n      <td>0.0</td>\n      <td>3.0</td>\n      <td>0.44</td>\n      <td>0.0</td>\n      <td>0.0</td>\n      <td>0.0</td>\n      <td>1.0</td>\n      <td>21.0</td>\n      <td>9.0</td>\n      <td>0</td>\n    </tr>\n    <tr>\n      <th>35969</th>\n      <td>94.0</td>\n      <td>1.0</td>\n      <td>12.0</td>\n      <td>1.0</td>\n      <td>0.0</td>\n      <td>1.0</td>\n      <td>1.0</td>\n      <td>0.0</td>\n      <td>0.0</td>\n      <td>0.0</td>\n      <td>...</td>\n      <td>0.0</td>\n      <td>1.0</td>\n      <td>1.00</td>\n      <td>0.0</td>\n      <td>0.0</td>\n      <td>0.0</td>\n      <td>2.0</td>\n      <td>11.0</td>\n      <td>12.0</td>\n      <td>0</td>\n    </tr>\n    <tr>\n      <th>35970</th>\n      <td>94.0</td>\n      <td>1.0</td>\n      <td>12.0</td>\n      <td>1.0</td>\n      <td>0.0</td>\n      <td>1.0</td>\n      <td>1.0</td>\n      <td>0.0</td>\n      <td>1.0</td>\n      <td>0.0</td>\n      <td>...</td>\n      <td>0.0</td>\n      <td>1.0</td>\n      <td>1.00</td>\n      <td>0.0</td>\n      <td>1.0</td>\n      <td>1.0</td>\n      <td>1.0</td>\n      <td>11.0</td>\n      <td>48.0</td>\n      <td>0</td>\n    </tr>\n    <tr>\n      <th>35971</th>\n      <td>94.0</td>\n      <td>1.0</td>\n      <td>12.0</td>\n      <td>1.0</td>\n      <td>0.0</td>\n      <td>1.0</td>\n      <td>1.0</td>\n      <td>0.0</td>\n      <td>1.0</td>\n      <td>0.0</td>\n      <td>...</td>\n      <td>0.0</td>\n      <td>1.0</td>\n      <td>1.00</td>\n      <td>0.0</td>\n      <td>0.0</td>\n      <td>0.0</td>\n      <td>2.0</td>\n      <td>11.0</td>\n      <td>39.0</td>\n      <td>0</td>\n    </tr>\n    <tr>\n      <th>35972</th>\n      <td>94.0</td>\n      <td>1.0</td>\n      <td>12.0</td>\n      <td>1.0</td>\n      <td>0.0</td>\n      <td>1.0</td>\n      <td>1.0</td>\n      <td>0.0</td>\n      <td>1.0</td>\n      <td>1.0</td>\n      <td>...</td>\n      <td>0.0</td>\n      <td>1.0</td>\n      <td>0.00</td>\n      <td>0.0</td>\n      <td>0.0</td>\n      <td>0.0</td>\n      <td>3.0</td>\n      <td>11.0</td>\n      <td>40.0</td>\n      <td>0</td>\n    </tr>\n  </tbody>\n</table>\n<p>35973 rows × 39 columns</p>\n</div>"
     },
     "execution_count": 24,
     "metadata": {},
     "output_type": "execute_result"
    }
   ],
   "source": [
    "rf_df = X.join(y)\n",
    "rf_df"
   ],
   "metadata": {
    "collapsed": false,
    "ExecuteTime": {
     "end_time": "2024-04-12T18:07:19.121566Z",
     "start_time": "2024-04-12T18:07:19.055703Z"
    }
   },
   "id": "8b89acf943d0ec8e",
   "execution_count": 24
  },
  {
   "cell_type": "code",
   "outputs": [
    {
     "data": {
      "text/plain": "32401"
     },
     "execution_count": 31,
     "metadata": {},
     "output_type": "execute_result"
    }
   ],
   "source": [
    "rf_df['DC201'].value_counts()[0]"
   ],
   "metadata": {
    "collapsed": false,
    "ExecuteTime": {
     "end_time": "2024-04-12T19:08:54.124071Z",
     "start_time": "2024-04-12T19:08:54.107031Z"
    }
   },
   "id": "2f7b93898985dcef",
   "execution_count": 31
  },
  {
   "cell_type": "code",
   "outputs": [
    {
     "data": {
      "text/plain": "3572"
     },
     "execution_count": 32,
     "metadata": {},
     "output_type": "execute_result"
    }
   ],
   "source": [
    "rf_df['DC201'].value_counts()[1]"
   ],
   "metadata": {
    "collapsed": false,
    "ExecuteTime": {
     "end_time": "2024-04-12T19:09:05.738607Z",
     "start_time": "2024-04-12T19:09:05.724521Z"
    }
   },
   "id": "63c3716d28cecc0f",
   "execution_count": 32
  },
  {
   "cell_type": "code",
   "outputs": [],
   "source": [
    "X, y = rf_df.iloc[:, :-1], rf_df.iloc[:, -1]"
   ],
   "metadata": {
    "collapsed": false,
    "ExecuteTime": {
     "end_time": "2024-04-12T19:13:50.109721Z",
     "start_time": "2024-04-12T19:13:50.090179Z"
    }
   },
   "id": "a6128db8efc2799e",
   "execution_count": 35
  },
  {
   "cell_type": "code",
   "outputs": [
    {
     "data": {
      "text/plain": "       DC024  DC025  DC205  DC206  DC207  DC208  DC209  DC210  DC211  DC212  \\\n0       11.0    2.0   16.0    1.0    0.0    1.0    0.0    0.0    0.0    0.0   \n1       11.0    2.0   31.0    1.0    0.0    1.0    0.0    0.0    1.0    0.0   \n2       11.0    2.0   12.0    1.0    0.0    1.0    1.0    1.0    1.0    0.0   \n3       11.0    2.0   12.0    1.0    0.0    0.0    0.0    0.0    1.0    0.0   \n4       11.0    2.0   12.0    1.0    0.0    1.0    1.0    0.0    0.0    0.0   \n...      ...    ...    ...    ...    ...    ...    ...    ...    ...    ...   \n35968   94.0    1.0   17.0    1.0    0.0    0.0    0.0    0.0    0.0    0.0   \n35969   94.0    1.0   12.0    1.0    0.0    1.0    1.0    0.0    0.0    0.0   \n35970   94.0    1.0   12.0    1.0    0.0    1.0    1.0    0.0    1.0    0.0   \n35971   94.0    1.0   12.0    1.0    0.0    1.0    1.0    0.0    1.0    0.0   \n35972   94.0    1.0   12.0    1.0    0.0    1.0    1.0    0.0    1.0    1.0   \n\n       ...  DC237e  DC237f  DC241  DC242  DC244  DC246  DC252  DC270a  DC109  \\\n0      ...     0.0     0.0    1.0   0.00    0.0    0.0    2.0     1.0   12.0   \n1      ...     0.0     0.0    1.0   0.00    1.0    1.0    1.0     2.0   31.0   \n2      ...     0.0     0.0    1.0   0.00    1.0    1.0    0.0     4.0   11.0   \n3      ...     0.0     0.0    2.0   0.90    1.0    0.0    1.0     1.0   11.0   \n4      ...     0.0     0.0    1.0   0.00    0.0    1.0    0.0     2.0   11.0   \n...    ...     ...     ...    ...    ...    ...    ...    ...     ...    ...   \n35968  ...     0.0     0.0    3.0   0.44    0.0    0.0    0.0     1.0   21.0   \n35969  ...     0.0     0.0    1.0   1.00    0.0    0.0    0.0     2.0   11.0   \n35970  ...     0.0     0.0    1.0   1.00    0.0    1.0    1.0     1.0   11.0   \n35971  ...     0.0     0.0    1.0   1.00    0.0    0.0    0.0     2.0   11.0   \n35972  ...     0.0     0.0    1.0   0.00    0.0    0.0    0.0     3.0   11.0   \n\n       DC142a  \n0        60.0  \n1        70.0  \n2        75.0  \n3        85.0  \n4        65.0  \n...       ...  \n35968     9.0  \n35969    12.0  \n35970    48.0  \n35971    39.0  \n35972    40.0  \n\n[35973 rows x 38 columns]",
      "text/html": "<div>\n<style scoped>\n    .dataframe tbody tr th:only-of-type {\n        vertical-align: middle;\n    }\n\n    .dataframe tbody tr th {\n        vertical-align: top;\n    }\n\n    .dataframe thead th {\n        text-align: right;\n    }\n</style>\n<table border=\"1\" class=\"dataframe\">\n  <thead>\n    <tr style=\"text-align: right;\">\n      <th></th>\n      <th>DC024</th>\n      <th>DC025</th>\n      <th>DC205</th>\n      <th>DC206</th>\n      <th>DC207</th>\n      <th>DC208</th>\n      <th>DC209</th>\n      <th>DC210</th>\n      <th>DC211</th>\n      <th>DC212</th>\n      <th>...</th>\n      <th>DC237e</th>\n      <th>DC237f</th>\n      <th>DC241</th>\n      <th>DC242</th>\n      <th>DC244</th>\n      <th>DC246</th>\n      <th>DC252</th>\n      <th>DC270a</th>\n      <th>DC109</th>\n      <th>DC142a</th>\n    </tr>\n  </thead>\n  <tbody>\n    <tr>\n      <th>0</th>\n      <td>11.0</td>\n      <td>2.0</td>\n      <td>16.0</td>\n      <td>1.0</td>\n      <td>0.0</td>\n      <td>1.0</td>\n      <td>0.0</td>\n      <td>0.0</td>\n      <td>0.0</td>\n      <td>0.0</td>\n      <td>...</td>\n      <td>0.0</td>\n      <td>0.0</td>\n      <td>1.0</td>\n      <td>0.00</td>\n      <td>0.0</td>\n      <td>0.0</td>\n      <td>2.0</td>\n      <td>1.0</td>\n      <td>12.0</td>\n      <td>60.0</td>\n    </tr>\n    <tr>\n      <th>1</th>\n      <td>11.0</td>\n      <td>2.0</td>\n      <td>31.0</td>\n      <td>1.0</td>\n      <td>0.0</td>\n      <td>1.0</td>\n      <td>0.0</td>\n      <td>0.0</td>\n      <td>1.0</td>\n      <td>0.0</td>\n      <td>...</td>\n      <td>0.0</td>\n      <td>0.0</td>\n      <td>1.0</td>\n      <td>0.00</td>\n      <td>1.0</td>\n      <td>1.0</td>\n      <td>1.0</td>\n      <td>2.0</td>\n      <td>31.0</td>\n      <td>70.0</td>\n    </tr>\n    <tr>\n      <th>2</th>\n      <td>11.0</td>\n      <td>2.0</td>\n      <td>12.0</td>\n      <td>1.0</td>\n      <td>0.0</td>\n      <td>1.0</td>\n      <td>1.0</td>\n      <td>1.0</td>\n      <td>1.0</td>\n      <td>0.0</td>\n      <td>...</td>\n      <td>0.0</td>\n      <td>0.0</td>\n      <td>1.0</td>\n      <td>0.00</td>\n      <td>1.0</td>\n      <td>1.0</td>\n      <td>0.0</td>\n      <td>4.0</td>\n      <td>11.0</td>\n      <td>75.0</td>\n    </tr>\n    <tr>\n      <th>3</th>\n      <td>11.0</td>\n      <td>2.0</td>\n      <td>12.0</td>\n      <td>1.0</td>\n      <td>0.0</td>\n      <td>0.0</td>\n      <td>0.0</td>\n      <td>0.0</td>\n      <td>1.0</td>\n      <td>0.0</td>\n      <td>...</td>\n      <td>0.0</td>\n      <td>0.0</td>\n      <td>2.0</td>\n      <td>0.90</td>\n      <td>1.0</td>\n      <td>0.0</td>\n      <td>1.0</td>\n      <td>1.0</td>\n      <td>11.0</td>\n      <td>85.0</td>\n    </tr>\n    <tr>\n      <th>4</th>\n      <td>11.0</td>\n      <td>2.0</td>\n      <td>12.0</td>\n      <td>1.0</td>\n      <td>0.0</td>\n      <td>1.0</td>\n      <td>1.0</td>\n      <td>0.0</td>\n      <td>0.0</td>\n      <td>0.0</td>\n      <td>...</td>\n      <td>0.0</td>\n      <td>0.0</td>\n      <td>1.0</td>\n      <td>0.00</td>\n      <td>0.0</td>\n      <td>1.0</td>\n      <td>0.0</td>\n      <td>2.0</td>\n      <td>11.0</td>\n      <td>65.0</td>\n    </tr>\n    <tr>\n      <th>...</th>\n      <td>...</td>\n      <td>...</td>\n      <td>...</td>\n      <td>...</td>\n      <td>...</td>\n      <td>...</td>\n      <td>...</td>\n      <td>...</td>\n      <td>...</td>\n      <td>...</td>\n      <td>...</td>\n      <td>...</td>\n      <td>...</td>\n      <td>...</td>\n      <td>...</td>\n      <td>...</td>\n      <td>...</td>\n      <td>...</td>\n      <td>...</td>\n      <td>...</td>\n      <td>...</td>\n    </tr>\n    <tr>\n      <th>35968</th>\n      <td>94.0</td>\n      <td>1.0</td>\n      <td>17.0</td>\n      <td>1.0</td>\n      <td>0.0</td>\n      <td>0.0</td>\n      <td>0.0</td>\n      <td>0.0</td>\n      <td>0.0</td>\n      <td>0.0</td>\n      <td>...</td>\n      <td>0.0</td>\n      <td>0.0</td>\n      <td>3.0</td>\n      <td>0.44</td>\n      <td>0.0</td>\n      <td>0.0</td>\n      <td>0.0</td>\n      <td>1.0</td>\n      <td>21.0</td>\n      <td>9.0</td>\n    </tr>\n    <tr>\n      <th>35969</th>\n      <td>94.0</td>\n      <td>1.0</td>\n      <td>12.0</td>\n      <td>1.0</td>\n      <td>0.0</td>\n      <td>1.0</td>\n      <td>1.0</td>\n      <td>0.0</td>\n      <td>0.0</td>\n      <td>0.0</td>\n      <td>...</td>\n      <td>0.0</td>\n      <td>0.0</td>\n      <td>1.0</td>\n      <td>1.00</td>\n      <td>0.0</td>\n      <td>0.0</td>\n      <td>0.0</td>\n      <td>2.0</td>\n      <td>11.0</td>\n      <td>12.0</td>\n    </tr>\n    <tr>\n      <th>35970</th>\n      <td>94.0</td>\n      <td>1.0</td>\n      <td>12.0</td>\n      <td>1.0</td>\n      <td>0.0</td>\n      <td>1.0</td>\n      <td>1.0</td>\n      <td>0.0</td>\n      <td>1.0</td>\n      <td>0.0</td>\n      <td>...</td>\n      <td>0.0</td>\n      <td>0.0</td>\n      <td>1.0</td>\n      <td>1.00</td>\n      <td>0.0</td>\n      <td>1.0</td>\n      <td>1.0</td>\n      <td>1.0</td>\n      <td>11.0</td>\n      <td>48.0</td>\n    </tr>\n    <tr>\n      <th>35971</th>\n      <td>94.0</td>\n      <td>1.0</td>\n      <td>12.0</td>\n      <td>1.0</td>\n      <td>0.0</td>\n      <td>1.0</td>\n      <td>1.0</td>\n      <td>0.0</td>\n      <td>1.0</td>\n      <td>0.0</td>\n      <td>...</td>\n      <td>0.0</td>\n      <td>0.0</td>\n      <td>1.0</td>\n      <td>1.00</td>\n      <td>0.0</td>\n      <td>0.0</td>\n      <td>0.0</td>\n      <td>2.0</td>\n      <td>11.0</td>\n      <td>39.0</td>\n    </tr>\n    <tr>\n      <th>35972</th>\n      <td>94.0</td>\n      <td>1.0</td>\n      <td>12.0</td>\n      <td>1.0</td>\n      <td>0.0</td>\n      <td>1.0</td>\n      <td>1.0</td>\n      <td>0.0</td>\n      <td>1.0</td>\n      <td>1.0</td>\n      <td>...</td>\n      <td>0.0</td>\n      <td>0.0</td>\n      <td>1.0</td>\n      <td>0.00</td>\n      <td>0.0</td>\n      <td>0.0</td>\n      <td>0.0</td>\n      <td>3.0</td>\n      <td>11.0</td>\n      <td>40.0</td>\n    </tr>\n  </tbody>\n</table>\n<p>35973 rows × 38 columns</p>\n</div>"
     },
     "execution_count": 36,
     "metadata": {},
     "output_type": "execute_result"
    }
   ],
   "source": [
    "X"
   ],
   "metadata": {
    "collapsed": false,
    "ExecuteTime": {
     "end_time": "2024-04-12T19:13:54.263064Z",
     "start_time": "2024-04-12T19:13:54.210635Z"
    }
   },
   "id": "278bb6a69b081cf3",
   "execution_count": 36
  },
  {
   "cell_type": "code",
   "outputs": [
    {
     "data": {
      "text/plain": "0        0\n1        0\n2        0\n3        0\n4        0\n        ..\n35968    0\n35969    0\n35970    0\n35971    0\n35972    0\nName: DC201, Length: 35973, dtype: int64"
     },
     "execution_count": 37,
     "metadata": {},
     "output_type": "execute_result"
    }
   ],
   "source": [
    "y"
   ],
   "metadata": {
    "collapsed": false,
    "ExecuteTime": {
     "end_time": "2024-04-12T19:13:56.105237Z",
     "start_time": "2024-04-12T19:13:56.094709Z"
    }
   },
   "id": "2454d4169730e246",
   "execution_count": 37
  },
  {
   "cell_type": "code",
   "outputs": [],
   "source": [
    "X_shape, y_shape = sm().fit_resample(X, y)"
   ],
   "metadata": {
    "collapsed": false,
    "ExecuteTime": {
     "end_time": "2024-04-12T19:30:06.725368Z",
     "start_time": "2024-04-12T19:30:06.593370Z"
    }
   },
   "id": "8ff022c0e97144c4",
   "execution_count": 40
  },
  {
   "cell_type": "code",
   "outputs": [
    {
     "name": "stdout",
     "output_type": "stream",
     "text": [
      "Counter({0: 32401, 1: 32401})\n"
     ]
    }
   ],
   "source": [
    "print(Counter(y_shape))"
   ],
   "metadata": {
    "collapsed": false,
    "ExecuteTime": {
     "end_time": "2024-04-12T19:30:14.279712Z",
     "start_time": "2024-04-12T19:30:14.265712Z"
    }
   },
   "id": "977874c358419af9",
   "execution_count": 41
  },
  {
   "cell_type": "code",
   "outputs": [
    {
     "data": {
      "text/plain": "(64802, 38)"
     },
     "execution_count": 44,
     "metadata": {},
     "output_type": "execute_result"
    }
   ],
   "source": [
    "X_shape.shape"
   ],
   "metadata": {
    "collapsed": false,
    "ExecuteTime": {
     "end_time": "2024-04-12T19:31:08.794993Z",
     "start_time": "2024-04-12T19:31:08.774976Z"
    }
   },
   "id": "c4e6239d9be9394f",
   "execution_count": 44
  },
  {
   "cell_type": "code",
   "outputs": [
    {
     "data": {
      "text/plain": "0.9999999999999999"
     },
     "execution_count": 55,
     "metadata": {},
     "output_type": "execute_result"
    }
   ],
   "source": [
    "pca = PCA()\n",
    "X_pca = pca.fit_transform(X_shape)\n",
    "pca.explained_variance_ratio_.sum()"
   ],
   "metadata": {
    "collapsed": false,
    "ExecuteTime": {
     "end_time": "2024-04-12T19:36:49.009121Z",
     "start_time": "2024-04-12T19:36:48.924126Z"
    }
   },
   "id": "3315721d51fffaec",
   "execution_count": 55
  },
  {
   "cell_type": "code",
   "outputs": [],
   "source": [],
   "metadata": {
    "collapsed": false
   },
   "id": "9173812badc07da9"
  },
  {
   "cell_type": "code",
   "outputs": [
    {
     "data": {
      "text/plain": "array([0.84876925, 0.07838637])"
     },
     "execution_count": 54,
     "metadata": {},
     "output_type": "execute_result"
    }
   ],
   "source": [
    "pca.explained_variance_ratio_"
   ],
   "metadata": {
    "collapsed": false,
    "ExecuteTime": {
     "end_time": "2024-04-12T19:36:03.874483Z",
     "start_time": "2024-04-12T19:36:03.858482Z"
    }
   },
   "id": "8f633880a93a26de",
   "execution_count": 54
  },
  {
   "cell_type": "code",
   "outputs": [
    {
     "data": {
      "text/plain": "4"
     },
     "execution_count": 49,
     "metadata": {},
     "output_type": "execute_result"
    }
   ],
   "source": [
    "df_reshape = X_shape.join(y_shape)\n",
    "df_reshape.duplicated().sum()"
   ],
   "metadata": {
    "collapsed": false,
    "ExecuteTime": {
     "end_time": "2024-04-12T19:32:40.118736Z",
     "start_time": "2024-04-12T19:32:39.980622Z"
    }
   },
   "id": "7a437256ac24214a",
   "execution_count": 49
  },
  {
   "cell_type": "code",
   "outputs": [
    {
     "data": {
      "text/plain": "[<matplotlib.lines.Line2D at 0x1fc0b5d1210>]"
     },
     "execution_count": 57,
     "metadata": {},
     "output_type": "execute_result"
    },
    {
     "data": {
      "text/plain": "<Figure size 1200x600 with 1 Axes>",
      "image/png": "[encoded data removed]"
     },
     "metadata": {},
     "output_type": "display_data"
    }
   ],
   "source": [
    "plt.figure(figsize=(12, 6))\n",
    "plt.plot(pca.explained_variance_ratio_)"
   ],
   "metadata": {
    "collapsed": false,
    "ExecuteTime": {
     "end_time": "2024-04-12T19:37:43.555868Z",
     "start_time": "2024-04-12T19:37:43.306042Z"
    }
   },
   "id": "4958a746f73c56bc",
   "execution_count": 57
  },
  {
   "cell_type": "code",
   "outputs": [],
   "source": [
    "#rf_df.to_csv('Dataset/rf_df.csv')"
   ],
   "metadata": {
    "collapsed": false
   },
   "id": "53fa4f25e1128a50"
  }
 ],
 "metadata": {
  "kernelspec": {
   "display_name": "Python 3",
   "language": "python",
   "name": "python3"
  },
  "language_info": {
   "codemirror_mode": {
    "name": "ipython",
    "version": 2
   },
   "file_extension": ".py",
   "mimetype": "text/x-python",
   "name": "python",
   "nbconvert_exporter": "python",
   "pygments_lexer": "ipython2",
   "version": "2.7.6"
  }
 },
 "nbformat": 4,
 "nbformat_minor": 5
}
